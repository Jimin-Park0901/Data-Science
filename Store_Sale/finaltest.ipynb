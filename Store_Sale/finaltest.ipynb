{
 "cells": [
  {
   "cell_type": "code",
   "execution_count": 2,
   "metadata": {},
   "outputs": [
    {
     "name": "stdout",
     "output_type": "stream",
     "text": [
      "\n",
      "Best Combination of Explanatory Variables:\n",
      "Variables: ('area', 'walking_time', 'competing_stores', 'parking', 'dining', 'main_street')\n",
      "Lowest BIC: 2896.126071456377\n"
     ]
    }
   ],
   "source": [
    "import pandas as pd\n",
    "import numpy as np\n",
    "import itertools\n",
    "import statsmodels.api as sm\n",
    "\n",
    "# Load the dataset\n",
    "file_path = 'store_sales.csv'  # Update with your local file path if necessary\n",
    "data = pd.read_csv(file_path)\n",
    "\n",
    "# Clean column names\n",
    "data.columns = data.columns.str.strip()\n",
    "\n",
    "# Outlier detection and handling for \"number of competing stores\"\n",
    "# Define outliers using the Interquartile Range (IQR) method\n",
    "Q1 = data['competing_stores'].quantile(0.25)  # First quartile\n",
    "Q3 = data['competing_stores'].quantile(0.75)  # Third quartile\n",
    "IQR = Q3 - Q1  # Interquartile range\n",
    "\n",
    "# Defining outlier boundaries\n",
    "lower_bound = Q1 - 1.5 * IQR\n",
    "upper_bound = Q3 + 1.5 * IQR\n",
    "\n",
    "# Cleaning the data: Remove rows with outliers in \"number of competing stores\"\n",
    "cleaned_data = data[(data['competing_stores'] >= lower_bound) & (data['competing_stores'] <= upper_bound)]\n",
    "\n",
    "# Define target variable and explanatory variables\n",
    "y = cleaned_data['sales']\n",
    "X = cleaned_data[['area', 'walking_time', 'competing_stores', 'population_density', 'parking', 'dining', 'main_street']]\n",
    "\n",
    "# Function to calculate BIC\n",
    "def calculate_bic(y, X):\n",
    "    X = sm.add_constant(X)  # Add a constant term for the intercept\n",
    "    model = sm.OLS(y, X).fit()  # Fit an Ordinary Least Squares (OLS) regression model\n",
    "    return model.bic  # Return BIC value\n",
    "\n",
    "# Generate all possible combinations of explanatory variables\n",
    "explanatory_variables = X.columns\n",
    "all_combinations = []\n",
    "\n",
    "for r in range(1, len(explanatory_variables) + 1):  # r = number of variables in the combination\n",
    "    combinations_r = list(itertools.combinations(explanatory_variables, r))\n",
    "    all_combinations.extend(combinations_r)\n",
    "\n",
    "# Calculate BIC for each combination\n",
    "results = []\n",
    "for combination in all_combinations:\n",
    "    X_subset = X[list(combination)]  # Subset of explanatory variables\n",
    "    bic = calculate_bic(y, X_subset)  # Calculate BIC\n",
    "    results.append({'formula': combination, 'BIC': bic})\n",
    "\n",
    "# Convert results to a DataFrame\n",
    "results_df = pd.DataFrame(results)\n",
    "\n",
    "# Sort by BIC in ascending order\n",
    "results_df = results_df.sort_values(by='BIC', ascending=True)\n",
    "\n",
    "# Extract the best combination\n",
    "best_combination = results_df.iloc[0]\n",
    "\n",
    "print(\"\\nBest Combination of Explanatory Variables:\")\n",
    "print(\"Variables:\", best_combination['formula'])\n",
    "print(\"Lowest BIC:\", best_combination['BIC'])"
   ]
  }
 ],
 "metadata": {
  "kernelspec": {
   "display_name": "base",
   "language": "python",
   "name": "python3"
  },
  "language_info": {
   "codemirror_mode": {
    "name": "ipython",
    "version": 3
   },
   "file_extension": ".py",
   "mimetype": "text/x-python",
   "name": "python",
   "nbconvert_exporter": "python",
   "pygments_lexer": "ipython3",
   "version": "3.12.4"
  }
 },
 "nbformat": 4,
 "nbformat_minor": 2
}
